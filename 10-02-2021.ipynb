{
 "cells": [
  {
   "cell_type": "code",
   "execution_count": null,
   "id": "aboriginal-lotus",
   "metadata": {},
   "outputs": [],
   "source": [
    "### what is a file?\n",
    "  - collection of records\n",
    "  - store the data\n",
    "### file operations\n",
    "  - reading a file()\n",
    "     - read the data from file\n",
    "    open a file()\n",
    "        open('filename','mode')\n",
    "  - writing a file()\n",
    "        To write a data into a file\n",
    "  - appending data\n",
    "        to add the add the file\n",
    "  - close a file is important\n",
    "        to close the file is mandatory\n",
    "    "
   ]
  },
  {
   "cell_type": "markdown",
   "id": "sublime-aviation",
   "metadata": {},
   "source": [
    "### modes\n",
    "read mode :r\n",
    "    write mode:w\n",
    "        append mode:a"
   ]
  },
  {
   "cell_type": "code",
   "execution_count": 36,
   "id": "under-destination",
   "metadata": {},
   "outputs": [
    {
     "name": "stdout",
     "output_type": "stream",
     "text": [
      "<_io.TextIOWrapper name='C:\\\\Users\\\\APSSDC-RVRJC\\\\Desktop\\\\GITUB FILES\\\\file.txt' mode='r' encoding='cp1252'>\n"
     ]
    }
   ],
   "source": [
    "#open a file\n",
    "f=open('C:\\\\Users\\\\APSSDC-RVRJC\\\\Desktop\\\\GITUB FILES\\\\file.txt','r')\n",
    "f1=f.read()\n",
    "print(f)"
   ]
  },
  {
   "cell_type": "code",
   "execution_count": 29,
   "id": "intense-reset",
   "metadata": {},
   "outputs": [
    {
     "name": "stdout",
     "output_type": "stream",
     "text": [
      "a=78\n",
      "b=90\n",
      "a+b\n",
      "print(a+b)\n"
     ]
    }
   ],
   "source": [
    "#read the data\n",
    "f=open('abc.py','r')\n",
    "f1= f.read()\n",
    "print(f1)\n"
   ]
  },
  {
   "cell_type": "code",
   "execution_count": 42,
   "id": "aboriginal-infrared",
   "metadata": {},
   "outputs": [
    {
     "name": "stdout",
     "output_type": "stream",
     "text": [
      "3\n"
     ]
    }
   ],
   "source": [
    "#write\n",
    "f=open('abc.py','w')\n",
    "data=\"kbc\"\n",
    "f1=f.write(data)\n",
    "f.close()\n",
    "print(f1)"
   ]
  },
  {
   "cell_type": "code",
   "execution_count": 52,
   "id": "opposite-seattle",
   "metadata": {},
   "outputs": [
    {
     "name": "stdout",
     "output_type": "stream",
     "text": [
      "12\n"
     ]
    }
   ],
   "source": [
    "f=open('1.py','a')\n",
    "f1=f.write('ece of rvrjc')\n",
    "f.close()\n",
    "print(f1)\n"
   ]
  },
  {
   "cell_type": "code",
   "execution_count": 58,
   "id": "ordinary-scout",
   "metadata": {},
   "outputs": [
    {
     "name": "stdout",
     "output_type": "stream",
     "text": [
      "<_io.TextIOWrapper name='2.java' mode='a' encoding='cp1252'>\n"
     ]
    }
   ],
   "source": [
    "f=open('2.java','a')\n",
    "data='macherla'\n",
    "f1=f.write(data)\n",
    "f.close()\n",
    "print(f)"
   ]
  },
  {
   "cell_type": "code",
   "execution_count": 61,
   "id": "completed-forestry",
   "metadata": {},
   "outputs": [
    {
     "name": "stdout",
     "output_type": "stream",
     "text": [
      "append data is sucess\n"
     ]
    }
   ],
   "source": [
    "#without close a file\n",
    "with open('2.java','a') as kbc:\n",
    "    data ='\\n apssdc'\n",
    "    kbc.write(data)\n",
    "    print('append data is sucess')"
   ]
  },
  {
   "cell_type": "code",
   "execution_count": 64,
   "id": "dangerous-apollo",
   "metadata": {},
   "outputs": [],
   "source": [
    "with open('kbc.java','a') as k:\n",
    "    data='jai adarsh'\n",
    "    k.write(data)\n",
    "    \n",
    "    "
   ]
  },
  {
   "cell_type": "code",
   "execution_count": 67,
   "id": "understood-greeting",
   "metadata": {},
   "outputs": [
    {
     "name": "stdout",
     "output_type": "stream",
     "text": [
      "Collecting PYpdf2\n",
      "  Downloading PyPDF2-1.26.0.tar.gz (77 kB)\n",
      "Using legacy 'setup.py install' for PYpdf2, since package 'wheel' is not installed.\n",
      "Installing collected packages: PYpdf2\n",
      "    Running setup.py install for PYpdf2: started\n",
      "    Running setup.py install for PYpdf2: finished with status 'done'\n",
      "Successfully installed PYpdf2-1.26.0\n",
      "Note: you may need to restart the kernel to use updated packages.\n"
     ]
    },
    {
     "name": "stderr",
     "output_type": "stream",
     "text": [
      "WARNING: You are using pip version 20.2.1; however, version 21.0.1 is available.\n",
      "You should consider upgrading via the 'c:\\users\\apssdc-rvrjc\\appdata\\local\\programs\\python\\python38\\python.exe -m pip install --upgrade pip' command.\n"
     ]
    }
   ],
   "source": [
    "pip install PYpdf2"
   ]
  },
  {
   "cell_type": "code",
   "execution_count": null,
   "id": "homeless-arena",
   "metadata": {},
   "outputs": [],
   "source": []
  }
 ],
 "metadata": {
  "kernelspec": {
   "display_name": "Python 3",
   "language": "python",
   "name": "python3"
  },
  "language_info": {
   "codemirror_mode": {
    "name": "ipython",
    "version": 3
   },
   "file_extension": ".py",
   "mimetype": "text/x-python",
   "name": "python",
   "nbconvert_exporter": "python",
   "pygments_lexer": "ipython3",
   "version": "3.8.6"
  }
 },
 "nbformat": 4,
 "nbformat_minor": 5
}
