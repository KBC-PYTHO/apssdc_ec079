{
 "cells": [
  {
   "cell_type": "code",
   "execution_count": 3,
   "id": "indian-ecology",
   "metadata": {},
   "outputs": [
    {
     "name": "stdout",
     "output_type": "stream",
     "text": [
      "enter the number6\n",
      "not a perfect number\n"
     ]
    }
   ],
   "source": [
    "n=int(input('enter the number'))\n",
    "s=0\n",
    "for i in range(1,n):\n",
    "    if n%i==0:\n",
    "        s+=1\n",
    "if s==n:\n",
    "    print('it is a perfect number')\n",
    "else:\n",
    "    print('not a perfect number')\n",
    "            \n",
    "        \n",
    "    \n"
   ]
  },
  {
   "cell_type": "code",
   "execution_count": 6,
   "id": "mature-killing",
   "metadata": {},
   "outputs": [
    {
     "name": "stdout",
     "output_type": "stream",
     "text": [
      "10987654321"
     ]
    }
   ],
   "source": [
    "\n",
    "for i in range(10,0,-1):\n",
    "    print(i,end='')\n"
   ]
  },
  {
   "cell_type": "code",
   "execution_count": 5,
   "id": "latter-event",
   "metadata": {},
   "outputs": [
    {
     "name": "stdout",
     "output_type": "stream",
     "text": [
      "1234"
     ]
    }
   ],
   "source": [
    "for i in range(1,10):\n",
    "    \n",
    "    if i==5:\n",
    "        break\n",
    "    print(i,end='')"
   ]
  },
  {
   "cell_type": "code",
   "execution_count": 9,
   "id": "altered-penguin",
   "metadata": {},
   "outputs": [
    {
     "name": "stdout",
     "output_type": "stream",
     "text": [
      "12346789"
     ]
    }
   ],
   "source": [
    "for i in range(1,10):\n",
    "    if i==5:\n",
    "        continue\n",
    "    print(i,end='')    \n"
   ]
  },
  {
   "cell_type": "markdown",
   "id": "opened-amazon",
   "metadata": {},
   "source": [
    "###funtions\n",
    "block of code to perform specified task\n",
    "advantages:\n",
    "    code reusability\n",
    "    readability of the program\n",
    "    code reduction\n",
    "    time decrease\n",
    "### types of funtions\n",
    "    1)input/default funtions\n",
    "    ex:print,sum,add,int,max,min,int,count,\n",
    "    2)user defined funtions\n",
    "    3)special funtions"
   ]
  },
  {
   "cell_type": "code",
   "execution_count": 11,
   "id": "faced-produce",
   "metadata": {},
   "outputs": [
    {
     "data": {
      "text/plain": [
       "3"
      ]
     },
     "execution_count": 11,
     "metadata": {},
     "output_type": "execute_result"
    }
   ],
   "source": [
    "max(1,2,3)"
   ]
  },
  {
   "cell_type": "markdown",
   "id": "working-gravity",
   "metadata": {},
   "source": [
    "###types of user defined funtions\n",
    "1)funtion creation\n",
    "  a)funtion declartion\n",
    "  def:funtion name(arg):\n",
    "  b)funtion defination\n",
    "   statements \n",
    "  c)funtion call:\n",
    "        'by using funtion name'\n",
    "   d)special funtions:\n",
    "   -lamda,comprehension,iterations"
   ]
  },
  {
   "cell_type": "code",
   "execution_count": 14,
   "id": "different-credit",
   "metadata": {},
   "outputs": [
    {
     "name": "stdout",
     "output_type": "stream",
     "text": [
      "9\n"
     ]
    }
   ],
   "source": [
    "### how to create a funtion\n",
    "def add(a,b):\n",
    "        print(a+b)\n",
    "add(4,5)        "
   ]
  },
  {
   "cell_type": "code",
   "execution_count": 23,
   "id": "immediate-proposition",
   "metadata": {},
   "outputs": [
    {
     "name": "stdout",
     "output_type": "stream",
     "text": [
      "-1\n"
     ]
    }
   ],
   "source": [
    "def sub(a,b):\n",
    "    sub=a-b\n",
    "    print(sub)\n",
    "sub(4,5)\n",
    "    \n",
    "    \n",
    "    \n",
    "    "
   ]
  },
  {
   "cell_type": "markdown",
   "id": "official-smile",
   "metadata": {},
   "source": [
    "###types of user defined funtions on depending upon the return type\n",
    "#1 with return and with arguments\n",
    "#2 with return no arguments\n",
    "#3  no return  with arguments\n",
    "#4  no return and no arguments\n"
   ]
  },
  {
   "cell_type": "code",
   "execution_count": 24,
   "id": "unexpected-synthesis",
   "metadata": {},
   "outputs": [
    {
     "name": "stdout",
     "output_type": "stream",
     "text": [
      "enter the value2\n",
      "factor of 10\n",
      "enter the value7\n",
      "not a factor of 10\n"
     ]
    }
   ],
   "source": [
    "def f1():\n",
    "    n=int(input('enter the value'))\n",
    "    if 10%n==0:\n",
    "        print('factor of 10')\n",
    "    else:\n",
    "        print('not a factor of 10')\n",
    "f1()\n",
    "f1()\n",
    "        \n",
    "    "
   ]
  },
  {
   "cell_type": "code",
   "execution_count": 29,
   "id": "involved-printing",
   "metadata": {},
   "outputs": [
    {
     "ename": "SyntaxError",
     "evalue": "invalid syntax (<ipython-input-29-340b53d07530>, line 5)",
     "output_type": "error",
     "traceback": [
      "\u001b[1;36m  File \u001b[1;32m\"<ipython-input-29-340b53d07530>\"\u001b[1;36m, line \u001b[1;32m5\u001b[0m\n\u001b[1;33m    else:\u001b[0m\n\u001b[1;37m    ^\u001b[0m\n\u001b[1;31mSyntaxError\u001b[0m\u001b[1;31m:\u001b[0m invalid syntax\n"
     ]
    }
   ],
   "source": [
    "def f1 ():\n",
    "    n=int(input('enter the value'))\n",
    "    if 10%n==0:\n",
    "        print('perfect')\n",
    "    else:\n",
    "            print('not perfect')\n",
    "f1()\n",
    "n=f1()\n",
    "print(n)\n",
    "            "
   ]
  },
  {
   "cell_type": "code",
   "execution_count": 31,
   "id": "separated-injection",
   "metadata": {},
   "outputs": [
    {
     "name": "stdout",
     "output_type": "stream",
     "text": [
      "enter the value23\n",
      "enter the value21\n",
      "44\n",
      "2\n",
      "483\n",
      "1.0952380952380953\n"
     ]
    }
   ],
   "source": [
    "#1 with out org and with return type\n",
    "def f1():\n",
    "    n1= int(input('enter the value'))\n",
    "    n2= int(input('enter the value'))\n",
    "    return n1+n2,n1-n2,n1*n2,n1/n2\n",
    "add,sub,mul,div =f1()\n",
    "print(add)\n",
    "print(sub)\n",
    "print(mul)\n",
    "print(div)"
   ]
  },
  {
   "cell_type": "code",
   "execution_count": null,
   "id": "affiliated-organization",
   "metadata": {},
   "outputs": [],
   "source": [
    "n1=int(input('enter the value'))\n",
    "n2=int(input('enter the value'))\n",
    "def f3(n1,n2):\n",
    "    print('addition is:',n1+n2)\n",
    "    print('substraction is:',n1-n2)\n",
    "    print('multiplication is:',n1*n2)\n",
    "    print('division is:'n1/n2)\n",
    "f3()    \n",
    "    "
   ]
  },
  {
   "cell_type": "code",
   "execution_count": 3,
   "id": "accessory-occasions",
   "metadata": {},
   "outputs": [
    {
     "name": "stdout",
     "output_type": "stream",
     "text": [
      "enter the value23\n",
      "enter the value24\n",
      "adiition is: 47\n",
      "substraction is : -1\n"
     ]
    },
    {
     "data": {
      "text/plain": [
       "(47, -1)"
      ]
     },
     "execution_count": 3,
     "metadata": {},
     "output_type": "execute_result"
    }
   ],
   "source": [
    "n1=int(input('enter the value'))\n",
    "n2=int(input('enter the value'))\n",
    "def f4(n1,n2):\n",
    "    print('adiition is:',n1+n2)\n",
    "    print('substraction is :',n1-n2)\n",
    "    return n1+n2,n1-n2\n",
    "f4(n1,n2)"
   ]
  },
  {
   "cell_type": "code",
   "execution_count": null,
   "id": "solid-sullivan",
   "metadata": {},
   "outputs": [],
   "source": []
  }
 ],
 "metadata": {
  "kernelspec": {
   "display_name": "Python 3",
   "language": "python",
   "name": "python3"
  },
  "language_info": {
   "codemirror_mode": {
    "name": "ipython",
    "version": 3
   },
   "file_extension": ".py",
   "mimetype": "text/x-python",
   "name": "python",
   "nbconvert_exporter": "python",
   "pygments_lexer": "ipython3",
   "version": "3.8.6"
  }
 },
 "nbformat": 4,
 "nbformat_minor": 5
}
