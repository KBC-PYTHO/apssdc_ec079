{
 "cells": [
  {
   "cell_type": "markdown",
   "id": "understood-prerequisite",
   "metadata": {},
   "source": [
    "### tyupes of arguments\n",
    "#1 default\n",
    "#2 positional\n",
    "#3 variable lengtth\n",
    "#4 keyword"
   ]
  },
  {
   "cell_type": "code",
   "execution_count": 3,
   "id": "guided-reconstruction",
   "metadata": {},
   "outputs": [
    {
     "data": {
      "text/plain": [
       "400"
      ]
     },
     "execution_count": 3,
     "metadata": {},
     "output_type": "execute_result"
    }
   ],
   "source": [
    "### default arguments\n",
    "def default(a=10,b=20):\n",
    "    return a*b\n",
    "default()\n",
    "default(30)\n",
    "default(20,20)"
   ]
  },
  {
   "cell_type": "markdown",
   "id": "deadly-battlefield",
   "metadata": {},
   "source": [
    "###range has 3 arguments"
   ]
  },
  {
   "cell_type": "code",
   "execution_count": 5,
   "id": "stable-immunology",
   "metadata": {},
   "outputs": [
    {
     "data": {
      "text/plain": [
       "range(0, 10)"
      ]
     },
     "execution_count": 5,
     "metadata": {},
     "output_type": "execute_result"
    }
   ],
   "source": [
    "range(10)"
   ]
  },
  {
   "cell_type": "code",
   "execution_count": 9,
   "id": "academic-sarah",
   "metadata": {},
   "outputs": [
    {
     "ename": "SyntaxError",
     "evalue": "non-default argument follows default argument (<ipython-input-9-04e3bf9ce433>, line 2)",
     "output_type": "error",
     "traceback": [
      "\u001b[1;36m  File \u001b[1;32m\"<ipython-input-9-04e3bf9ce433>\"\u001b[1;36m, line \u001b[1;32m2\u001b[0m\n\u001b[1;33m    def required(b=20,c=30,a):\u001b[0m\n\u001b[1;37m                 ^\u001b[0m\n\u001b[1;31mSyntaxError\u001b[0m\u001b[1;31m:\u001b[0m non-default argument follows default argument\n"
     ]
    }
   ],
   "source": [
    "### required or positional\n",
    "def required(b=20,c=30,a):\n",
    "    return a**b+c**5\n",
    "required(9,5,3)"
   ]
  },
  {
   "cell_type": "code",
   "execution_count": 14,
   "id": "organized-stanford",
   "metadata": {},
   "outputs": [
    {
     "data": {
      "text/plain": [
       "81"
      ]
     },
     "execution_count": 14,
     "metadata": {},
     "output_type": "execute_result"
    }
   ],
   "source": [
    "### variable length argument\n",
    "def var_len(a,b=20,*c):\n",
    "    return a+b+sum(c)\n",
    "var_len(10,10,10,10,10,10,10,10,1)"
   ]
  },
  {
   "cell_type": "code",
   "execution_count": 11,
   "id": "abroad-rendering",
   "metadata": {},
   "outputs": [
    {
     "data": {
      "text/plain": [
       "(1, 2, 3, 4)"
      ]
     },
     "execution_count": 11,
     "metadata": {},
     "output_type": "execute_result"
    }
   ],
   "source": [
    "a=1,2,3,4\n",
    "a"
   ]
  },
  {
   "cell_type": "code",
   "execution_count": 13,
   "id": "official-singer",
   "metadata": {},
   "outputs": [
    {
     "data": {
      "text/plain": [
       "()"
      ]
     },
     "execution_count": 13,
     "metadata": {},
     "output_type": "execute_result"
    }
   ],
   "source": [
    "a=()\n",
    "a"
   ]
  },
  {
   "cell_type": "code",
   "execution_count": 22,
   "id": "missing-melbourne",
   "metadata": {},
   "outputs": [
    {
     "data": {
      "text/plain": [
       "100"
      ]
     },
     "execution_count": 22,
     "metadata": {},
     "output_type": "execute_result"
    }
   ],
   "source": [
    "### variable length org\n",
    "def var_len(a,*c,b=20):\n",
    "    return a+b+sum(c)\n",
    "def var_len1(d=20,e=30):\n",
    "    result= a+b+sum(c)\n",
    "    return result+d+e\n",
    "var_len1()\n",
    "      \n",
    "    \n",
    "    \n",
    "    "
   ]
  },
  {
   "cell_type": "code",
   "execution_count": 25,
   "id": "naked-robin",
   "metadata": {},
   "outputs": [
    {
     "data": {
      "text/plain": [
       "{'num': ['abc', 'hello', 'kick']}"
      ]
     },
     "execution_count": 25,
     "metadata": {},
     "output_type": "execute_result"
    }
   ],
   "source": [
    "def key_word(**name):\n",
    "    return name\n",
    "key_word(num=['abc','hello','kick'])"
   ]
  },
  {
   "cell_type": "markdown",
   "id": "northern-voluntary",
   "metadata": {},
   "source": [
    "### strings"
   ]
  },
  {
   "cell_type": "code",
   "execution_count": 31,
   "id": "inner-intersection",
   "metadata": {},
   "outputs": [],
   "source": [
    "### strings\n",
    "#what is a string...?\n",
    "   #collection of characters\n",
    "    #enclosed with double or single qoutes"
   ]
  },
  {
   "cell_type": "code",
   "execution_count": 33,
   "id": "automatic-beverage",
   "metadata": {},
   "outputs": [
    {
     "name": "stdout",
     "output_type": "stream",
     "text": [
      "APSSDC\n"
     ]
    },
    {
     "data": {
      "text/plain": [
       "'APSSDC'"
      ]
     },
     "execution_count": 33,
     "metadata": {},
     "output_type": "execute_result"
    }
   ],
   "source": [
    "g='APSSDC'\n",
    "print(g)\n",
    "g"
   ]
  },
  {
   "cell_type": "code",
   "execution_count": 37,
   "id": "eligible-marketplace",
   "metadata": {},
   "outputs": [
    {
     "data": {
      "text/plain": [
       "'S'"
      ]
     },
     "execution_count": 37,
     "metadata": {},
     "output_type": "execute_result"
    }
   ],
   "source": [
    "# Accesing the value\n",
    "g[3] #FORWARD indexing"
   ]
  },
  {
   "cell_type": "code",
   "execution_count": 39,
   "id": "accessory-copyright",
   "metadata": {},
   "outputs": [
    {
     "data": {
      "text/plain": [
       "'C'"
      ]
     },
     "execution_count": 39,
     "metadata": {},
     "output_type": "execute_result"
    }
   ],
   "source": [
    "g[-1] # backward indexing"
   ]
  },
  {
   "cell_type": "code",
   "execution_count": 40,
   "id": "desirable-population",
   "metadata": {},
   "outputs": [
    {
     "name": "stdout",
     "output_type": "stream",
     "text": [
      "APSSDC\n"
     ]
    },
    {
     "data": {
      "text/plain": [
       "'SDC'"
      ]
     },
     "execution_count": 40,
     "metadata": {},
     "output_type": "execute_result"
    }
   ],
   "source": [
    "###slicing\n",
    "print(g)\n",
    "g[3:8]"
   ]
  },
  {
   "cell_type": "code",
   "execution_count": 41,
   "id": "parallel-sister",
   "metadata": {},
   "outputs": [
    {
     "data": {
      "text/plain": [
       "'APSSDC'"
      ]
     },
     "execution_count": 41,
     "metadata": {},
     "output_type": "execute_result"
    }
   ],
   "source": [
    "g[0:6]"
   ]
  },
  {
   "cell_type": "code",
   "execution_count": 42,
   "id": "considerable-lesbian",
   "metadata": {},
   "outputs": [
    {
     "data": {
      "text/plain": [
       "'APSSDC'"
      ]
     },
     "execution_count": 42,
     "metadata": {},
     "output_type": "execute_result"
    }
   ],
   "source": [
    "g[:]"
   ]
  },
  {
   "cell_type": "code",
   "execution_count": 43,
   "id": "scheduled-voice",
   "metadata": {},
   "outputs": [
    {
     "data": {
      "text/plain": [
       "'SDC'"
      ]
     },
     "execution_count": 43,
     "metadata": {},
     "output_type": "execute_result"
    }
   ],
   "source": [
    "g[3:]"
   ]
  },
  {
   "cell_type": "code",
   "execution_count": 44,
   "id": "described-thailand",
   "metadata": {},
   "outputs": [
    {
     "data": {
      "text/plain": [
       "'APSSD'"
      ]
     },
     "execution_count": 44,
     "metadata": {},
     "output_type": "execute_result"
    }
   ],
   "source": [
    "g[0:-1]"
   ]
  },
  {
   "cell_type": "code",
   "execution_count": 46,
   "id": "fewer-award",
   "metadata": {},
   "outputs": [
    {
     "data": {
      "text/plain": [
       "'APS'"
      ]
     },
     "execution_count": 46,
     "metadata": {},
     "output_type": "execute_result"
    }
   ],
   "source": [
    "g[0:-3]"
   ]
  },
  {
   "cell_type": "code",
   "execution_count": 48,
   "id": "collaborative-calcium",
   "metadata": {},
   "outputs": [
    {
     "data": {
      "text/plain": [
       "'CDSSPA'"
      ]
     },
     "execution_count": 48,
     "metadata": {},
     "output_type": "execute_result"
    }
   ],
   "source": [
    "g[::-1]"
   ]
  },
  {
   "cell_type": "code",
   "execution_count": 55,
   "id": "regional-china",
   "metadata": {},
   "outputs": [
    {
     "name": "stdout",
     "output_type": "stream",
     "text": [
      "apssdc\n"
     ]
    },
    {
     "data": {
      "text/plain": [
       "'print(\"rvr\")\\nprint(\"ece\")'"
      ]
     },
     "execution_count": 55,
     "metadata": {},
     "output_type": "execute_result"
    }
   ],
   "source": [
    "print(\"apssdc\")\n",
    "'''print(\"rvr\")\n",
    "print(\"ece\")'''"
   ]
  },
  {
   "cell_type": "code",
   "execution_count": 59,
   "id": "subjective-paraguay",
   "metadata": {},
   "outputs": [
    {
     "data": {
      "text/plain": [
       "['__add__',\n",
       " '__class__',\n",
       " '__contains__',\n",
       " '__delattr__',\n",
       " '__dir__',\n",
       " '__doc__',\n",
       " '__eq__',\n",
       " '__format__',\n",
       " '__ge__',\n",
       " '__getattribute__',\n",
       " '__getitem__',\n",
       " '__getnewargs__',\n",
       " '__gt__',\n",
       " '__hash__',\n",
       " '__init__',\n",
       " '__init_subclass__',\n",
       " '__iter__',\n",
       " '__le__',\n",
       " '__len__',\n",
       " '__lt__',\n",
       " '__mod__',\n",
       " '__mul__',\n",
       " '__ne__',\n",
       " '__new__',\n",
       " '__reduce__',\n",
       " '__reduce_ex__',\n",
       " '__repr__',\n",
       " '__rmod__',\n",
       " '__rmul__',\n",
       " '__setattr__',\n",
       " '__sizeof__',\n",
       " '__str__',\n",
       " '__subclasshook__',\n",
       " 'capitalize',\n",
       " 'casefold',\n",
       " 'center',\n",
       " 'count',\n",
       " 'encode',\n",
       " 'endswith',\n",
       " 'expandtabs',\n",
       " 'find',\n",
       " 'format',\n",
       " 'format_map',\n",
       " 'index',\n",
       " 'isalnum',\n",
       " 'isalpha',\n",
       " 'isascii',\n",
       " 'isdecimal',\n",
       " 'isdigit',\n",
       " 'isidentifier',\n",
       " 'islower',\n",
       " 'isnumeric',\n",
       " 'isprintable',\n",
       " 'isspace',\n",
       " 'istitle',\n",
       " 'isupper',\n",
       " 'join',\n",
       " 'ljust',\n",
       " 'lower',\n",
       " 'lstrip',\n",
       " 'maketrans',\n",
       " 'partition',\n",
       " 'replace',\n",
       " 'rfind',\n",
       " 'rindex',\n",
       " 'rjust',\n",
       " 'rpartition',\n",
       " 'rsplit',\n",
       " 'rstrip',\n",
       " 'split',\n",
       " 'splitlines',\n",
       " 'startswith',\n",
       " 'strip',\n",
       " 'swapcase',\n",
       " 'title',\n",
       " 'translate',\n",
       " 'upper',\n",
       " 'zfill']"
      ]
     },
     "execution_count": 59,
     "metadata": {},
     "output_type": "execute_result"
    }
   ],
   "source": [
    "dir(g)"
   ]
  },
  {
   "cell_type": "code",
   "execution_count": 63,
   "id": "devoted-colombia",
   "metadata": {},
   "outputs": [
    {
     "data": {
      "text/plain": [
       "'Apssdc'"
      ]
     },
     "execution_count": 63,
     "metadata": {},
     "output_type": "execute_result"
    }
   ],
   "source": [
    "g.capitalize() #starting letter is error"
   ]
  },
  {
   "cell_type": "code",
   "execution_count": 62,
   "id": "identified-blanket",
   "metadata": {},
   "outputs": [
    {
     "name": "stdout",
     "output_type": "stream",
     "text": [
      "APSSDC\n"
     ]
    },
    {
     "data": {
      "text/plain": [
       "'apssdc'"
      ]
     },
     "execution_count": 62,
     "metadata": {},
     "output_type": "execute_result"
    }
   ],
   "source": [
    "print(g)\n",
    "g.lower()"
   ]
  },
  {
   "cell_type": "code",
   "execution_count": 64,
   "id": "literary-denmark",
   "metadata": {},
   "outputs": [
    {
     "name": "stdout",
     "output_type": "stream",
     "text": [
      "APSSDC\n"
     ]
    },
    {
     "data": {
      "text/plain": [
       "'APSSDC'"
      ]
     },
     "execution_count": 64,
     "metadata": {},
     "output_type": "execute_result"
    }
   ],
   "source": [
    "print(g)\n",
    "g.upper()\n"
   ]
  },
  {
   "cell_type": "code",
   "execution_count": 67,
   "id": "annual-lincoln",
   "metadata": {},
   "outputs": [
    {
     "data": {
      "text/plain": [
       "'Apssdc Python Workshop'"
      ]
     },
     "execution_count": 67,
     "metadata": {},
     "output_type": "execute_result"
    }
   ],
   "source": [
    "g2='apssdc python workshop'\n",
    "g2.title()"
   ]
  },
  {
   "cell_type": "code",
   "execution_count": 68,
   "id": "liberal-context",
   "metadata": {},
   "outputs": [
    {
     "name": "stdout",
     "output_type": "stream",
     "text": [
      "sadarsh\n"
     ]
    }
   ],
   "source": [
    "a=\"s\"\n",
    "b=\"adarsh\"\n",
    "a+b\n",
    "print(a+b)"
   ]
  },
  {
   "cell_type": "code",
   "execution_count": 76,
   "id": "future-spirituality",
   "metadata": {},
   "outputs": [
    {
     "name": "stdout",
     "output_type": "stream",
     "text": [
      "s adarsh\n"
     ]
    }
   ],
   "source": [
    "a=\"s\"\n",
    "b=\"adarsh\"\n",
    "c=a+' '+b\n",
    "print(c)"
   ]
  },
  {
   "cell_type": "code",
   "execution_count": 77,
   "id": "fitting-canadian",
   "metadata": {},
   "outputs": [
    {
     "data": {
      "text/plain": [
       "['s', 'adarsh']"
      ]
     },
     "execution_count": 77,
     "metadata": {},
     "output_type": "execute_result"
    }
   ],
   "source": [
    "c.split()"
   ]
  },
  {
   "cell_type": "code",
   "execution_count": 78,
   "id": "manufactured-conversation",
   "metadata": {},
   "outputs": [
    {
     "data": {
      "text/plain": [
       "'s adarsh'"
      ]
     },
     "execution_count": 78,
     "metadata": {},
     "output_type": "execute_result"
    }
   ],
   "source": [
    "c.strip()"
   ]
  },
  {
   "cell_type": "code",
   "execution_count": 80,
   "id": "ecological-program",
   "metadata": {},
   "outputs": [
    {
     "data": {
      "text/plain": [
       "22"
      ]
     },
     "execution_count": 80,
     "metadata": {},
     "output_type": "execute_result"
    }
   ],
   "source": [
    "q=\"     python workshop  \"\n",
    "len(q)"
   ]
  },
  {
   "cell_type": "code",
   "execution_count": 82,
   "id": "satisfied-jamaica",
   "metadata": {},
   "outputs": [
    {
     "data": {
      "text/plain": [
       "'python workshop'"
      ]
     },
     "execution_count": 82,
     "metadata": {},
     "output_type": "execute_result"
    }
   ],
   "source": [
    "q.strip()"
   ]
  },
  {
   "cell_type": "markdown",
   "id": "polar-forestry",
   "metadata": {},
   "source": [
    "### strip used to remove the unwanted spaces"
   ]
  },
  {
   "cell_type": "code",
   "execution_count": 84,
   "id": "statistical-insight",
   "metadata": {},
   "outputs": [
    {
     "data": {
      "text/plain": [
       "'     python workshop'"
      ]
     },
     "execution_count": 84,
     "metadata": {},
     "output_type": "execute_result"
    }
   ],
   "source": [
    "q.rstrip()"
   ]
  },
  {
   "cell_type": "code",
   "execution_count": 85,
   "id": "found-binary",
   "metadata": {},
   "outputs": [
    {
     "data": {
      "text/plain": [
       "'python workshop  '"
      ]
     },
     "execution_count": 85,
     "metadata": {},
     "output_type": "execute_result"
    }
   ],
   "source": [
    "q.lstrip()"
   ]
  },
  {
   "cell_type": "markdown",
   "id": "coastal-ambassador",
   "metadata": {},
   "source": [
    "# join"
   ]
  },
  {
   "cell_type": "code",
   "execution_count": 88,
   "id": "right-roller",
   "metadata": {},
   "outputs": [
    {
     "data": {
      "text/plain": [
       "'stylish actor@ntr'"
      ]
     },
     "execution_count": 88,
     "metadata": {},
     "output_type": "execute_result"
    }
   ],
   "source": [
    "a={'ntr','stylish actor'}\n",
    "\"@\".join(a)"
   ]
  },
  {
   "cell_type": "code",
   "execution_count": null,
   "id": "bronze-playback",
   "metadata": {},
   "outputs": [],
   "source": [
    "a={}"
   ]
  }
 ],
 "metadata": {
  "kernelspec": {
   "display_name": "Python 3",
   "language": "python",
   "name": "python3"
  },
  "language_info": {
   "codemirror_mode": {
    "name": "ipython",
    "version": 3
   },
   "file_extension": ".py",
   "mimetype": "text/x-python",
   "name": "python",
   "nbconvert_exporter": "python",
   "pygments_lexer": "ipython3",
   "version": "3.8.6"
  }
 },
 "nbformat": 4,
 "nbformat_minor": 5
}
