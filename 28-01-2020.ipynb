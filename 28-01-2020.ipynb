{
 "cells": [
  {
   "cell_type": "code",
   "execution_count": 10,
   "id": "proprietary-fruit",
   "metadata": {},
   "outputs": [
    {
     "name": "stdout",
     "output_type": "stream",
     "text": [
      "my name is: k.brahmaiah chowdary,roll no : 79,emailchowdarybrahmaih13@gmail.com\n"
     ]
    }
   ],
   "source": [
    "a=\"my name is: {},roll no : {},email{}\"\n",
    "name=\"k.brahmaiah chowdary\"\n",
    "rollno= 79\n",
    "email= \"chowdarybrahmaih13@gmail.com\"\n",
    "a=a.format(name,rollno,email)\n",
    "print(a)"
   ]
  },
  {
   "cell_type": "code",
   "execution_count": 11,
   "id": "great-daisy",
   "metadata": {},
   "outputs": [
    {
     "data": {
      "text/plain": [
       "79"
      ]
     },
     "execution_count": 11,
     "metadata": {},
     "output_type": "execute_result"
    }
   ],
   "source": [
    "len(a)"
   ]
  },
  {
   "cell_type": "code",
   "execution_count": 19,
   "id": "minus-proof",
   "metadata": {},
   "outputs": [
    {
     "data": {
      "text/plain": [
       "True"
      ]
     },
     "execution_count": 19,
     "metadata": {},
     "output_type": "execute_result"
    }
   ],
   "source": [
    "a=\"ece\"\n",
    "a.isalpha()"
   ]
  },
  {
   "cell_type": "code",
   "execution_count": 20,
   "id": "expanded-confidentiality",
   "metadata": {},
   "outputs": [
    {
     "data": {
      "text/plain": [
       "True"
      ]
     },
     "execution_count": 20,
     "metadata": {},
     "output_type": "execute_result"
    }
   ],
   "source": [
    "a.isalnum()"
   ]
  },
  {
   "cell_type": "code",
   "execution_count": 22,
   "id": "infinite-administrator",
   "metadata": {},
   "outputs": [
    {
     "data": {
      "text/plain": [
       "False"
      ]
     },
     "execution_count": 22,
     "metadata": {},
     "output_type": "execute_result"
    }
   ],
   "source": [
    "a.isdigit()"
   ]
  },
  {
   "cell_type": "markdown",
   "id": "expensive-brave",
   "metadata": {},
   "source": [
    "a1=\"qwe123\"\n",
    "a1.isdigit()"
   ]
  },
  {
   "cell_type": "code",
   "execution_count": 29,
   "id": "healthy-hampton",
   "metadata": {},
   "outputs": [
    {
     "data": {
      "text/plain": [
       "-1"
      ]
     },
     "execution_count": 29,
     "metadata": {},
     "output_type": "execute_result"
    }
   ],
   "source": [
    "b=\"brahmaih\"\n",
    "b.find(a)"
   ]
  },
  {
   "cell_type": "code",
   "execution_count": 26,
   "id": "rocky-baseball",
   "metadata": {},
   "outputs": [
    {
     "data": {
      "text/plain": [
       "-1"
      ]
     },
     "execution_count": 26,
     "metadata": {},
     "output_type": "execute_result"
    }
   ],
   "source": [
    "b.find(a)"
   ]
  },
  {
   "cell_type": "code",
   "execution_count": 30,
   "id": "overhead-consciousness",
   "metadata": {},
   "outputs": [
    {
     "data": {
      "text/plain": [
       "2"
      ]
     },
     "execution_count": 30,
     "metadata": {},
     "output_type": "execute_result"
    }
   ],
   "source": [
    "b.find('ahm')"
   ]
  },
  {
   "cell_type": "code",
   "execution_count": 38,
   "id": "artificial-donna",
   "metadata": {},
   "outputs": [
    {
     "data": {
      "text/plain": [
       "'brahmaih'"
      ]
     },
     "execution_count": 38,
     "metadata": {},
     "output_type": "execute_result"
    }
   ],
   "source": [
    "\n",
    "b.replace('brahmaiah','sadarsh')\n"
   ]
  },
  {
   "cell_type": "code",
   "execution_count": 37,
   "id": "yellow-insulin",
   "metadata": {},
   "outputs": [
    {
     "data": {
      "text/plain": [
       "'BRAHMAIH'"
      ]
     },
     "execution_count": 37,
     "metadata": {},
     "output_type": "execute_result"
    }
   ],
   "source": [
    "b1=\"brahmaih\"\n",
    "b1.swapcase()"
   ]
  },
  {
   "cell_type": "code",
   "execution_count": 39,
   "id": "fantastic-patrol",
   "metadata": {},
   "outputs": [
    {
     "data": {
      "text/plain": [
       "8"
      ]
     },
     "execution_count": 39,
     "metadata": {},
     "output_type": "execute_result"
    }
   ],
   "source": [
    "len(b1)"
   ]
  },
  {
   "cell_type": "code",
   "execution_count": null,
   "id": "intended-difficulty",
   "metadata": {},
   "outputs": [],
   "source": [
    "c1=\"kbc\"\n",
    "x=translate('c1')\n",
    "print(x)"
   ]
  },
  {
   "cell_type": "code",
   "execution_count": 1,
   "id": "creative-formula",
   "metadata": {},
   "outputs": [
    {
     "data": {
      "text/plain": [
       "5"
      ]
     },
     "execution_count": 1,
     "metadata": {},
     "output_type": "execute_result"
    }
   ],
   "source": [
    " 2+3"
   ]
  },
  {
   "cell_type": "code",
   "execution_count": 8,
   "id": "endless-radiation",
   "metadata": {},
   "outputs": [
    {
     "data": {
      "text/plain": [
       "'hello apssdc'"
      ]
     },
     "execution_count": 8,
     "metadata": {},
     "output_type": "execute_result"
    }
   ],
   "source": [
    "d=(65,68)\n",
    "s=\"hello apssdc\"\n",
    "s.translate(d)"
   ]
  },
  {
   "cell_type": "code",
   "execution_count": 10,
   "id": "cathedral-french",
   "metadata": {},
   "outputs": [
    {
     "data": {
      "text/plain": [
       "True"
      ]
     },
     "execution_count": 10,
     "metadata": {},
     "output_type": "execute_result"
    }
   ],
   "source": [
    "# start with\n",
    "s=\"apssdc\"\n",
    "s.startswith(s)"
   ]
  },
  {
   "cell_type": "code",
   "execution_count": 12,
   "id": "particular-cassette",
   "metadata": {},
   "outputs": [
    {
     "data": {
      "text/plain": [
       "True"
      ]
     },
     "execution_count": 12,
     "metadata": {},
     "output_type": "execute_result"
    }
   ],
   "source": [
    "s.endswith('c')"
   ]
  },
  {
   "cell_type": "code",
   "execution_count": 13,
   "id": "flexible-rapid",
   "metadata": {},
   "outputs": [
    {
     "data": {
      "text/plain": [
       "False"
      ]
     },
     "execution_count": 13,
     "metadata": {},
     "output_type": "execute_result"
    }
   ],
   "source": [
    "s.endswith('d')"
   ]
  },
  {
   "cell_type": "code",
   "execution_count": 14,
   "id": "first-underwear",
   "metadata": {},
   "outputs": [
    {
     "data": {
      "text/plain": [
       "3"
      ]
     },
     "execution_count": 14,
     "metadata": {},
     "output_type": "execute_result"
    }
   ],
   "source": [
    "#index\n",
    "s.index('sd')"
   ]
  },
  {
   "cell_type": "code",
   "execution_count": 17,
   "id": "harmful-gibraltar",
   "metadata": {},
   "outputs": [
    {
     "data": {
      "text/plain": [
       "False"
      ]
     },
     "execution_count": 17,
     "metadata": {},
     "output_type": "execute_result"
    }
   ],
   "source": [
    "s.isupper()"
   ]
  },
  {
   "cell_type": "code",
   "execution_count": 18,
   "id": "cross-matthew",
   "metadata": {},
   "outputs": [
    {
     "data": {
      "text/plain": [
       "True"
      ]
     },
     "execution_count": 18,
     "metadata": {},
     "output_type": "execute_result"
    }
   ],
   "source": [
    "s.islower()"
   ]
  },
  {
   "cell_type": "code",
   "execution_count": 41,
   "id": "widespread-complaint",
   "metadata": {},
   "outputs": [
    {
     "name": "stdout",
     "output_type": "stream",
     "text": [
      "33\n",
      "of \n"
     ]
    }
   ],
   "source": [
    "# caluclate the length of the string\n",
    "s=\" python programming of apssdc....\"\n",
    "c=0\n",
    "for i in s:\n",
    "    if i!=0:\n",
    "            c+=1\n",
    "print(c)\n",
    "print(s[-13:-10])"
   ]
  },
  {
   "cell_type": "code",
   "execution_count": 53,
   "id": "incorporated-numbers",
   "metadata": {},
   "outputs": [
    {
     "data": {
      "text/plain": [
       "115"
      ]
     },
     "execution_count": 53,
     "metadata": {},
     "output_type": "execute_result"
    }
   ],
   "source": [
    "ord('s')\n",
    "\n",
    "\n",
    "\n"
   ]
  },
  {
   "cell_type": "code",
   "execution_count": 56,
   "id": "meaning-flavor",
   "metadata": {},
   "outputs": [
    {
     "data": {
      "text/plain": [
       "'A'"
      ]
     },
     "execution_count": 56,
     "metadata": {},
     "output_type": "execute_result"
    }
   ],
   "source": [
    "chr(65)"
   ]
  },
  {
   "cell_type": "code",
   "execution_count": null,
   "id": "beginning-stand",
   "metadata": {},
   "outputs": [],
   "source": [
    "###task-1\n",
    "=====\n",
    "-abc mno\n",
    "-def pqr\n",
    "###task-2\n",
    "-s=\"APSSDCAPSSDC\"..........>INPUT\n",
    "-RES=\"AP$$DCAP$$DC\"........<OUTPUT"
   ]
  },
  {
   "cell_type": "markdown",
   "id": "exotic-manufacturer",
   "metadata": {},
   "source": [
    "### LIST\n",
    "hetrogenous collection of data or elements like strings,integers ....\n",
    "denotes[]or List()"
   ]
  },
  {
   "cell_type": "code",
   "execution_count": 58,
   "id": "decimal-links",
   "metadata": {},
   "outputs": [
    {
     "name": "stdout",
     "output_type": "stream",
     "text": [
      "<class 'int'>\n"
     ]
    }
   ],
   "source": [
    "l=[]\n",
    "print((type(1)))"
   ]
  },
  {
   "cell_type": "code",
   "execution_count": 59,
   "id": "sonic-competition",
   "metadata": {},
   "outputs": [
    {
     "data": {
      "text/plain": [
       "['kbc', 'adarsh', 2422, 56, 456, 234, 'rvr']"
      ]
     },
     "execution_count": 59,
     "metadata": {},
     "output_type": "execute_result"
    }
   ],
   "source": [
    "l1=['kbc','adarsh',2422,56,456,234,'rvr']\n",
    "l1\n",
    "\n"
   ]
  },
  {
   "cell_type": "code",
   "execution_count": 60,
   "id": "complex-hostel",
   "metadata": {},
   "outputs": [
    {
     "data": {
      "text/plain": [
       "'rvr'"
      ]
     },
     "execution_count": 60,
     "metadata": {},
     "output_type": "execute_result"
    }
   ],
   "source": [
    "l1[6]"
   ]
  },
  {
   "cell_type": "code",
   "execution_count": 61,
   "id": "liquid-passport",
   "metadata": {},
   "outputs": [
    {
     "data": {
      "text/plain": [
       "456"
      ]
     },
     "execution_count": 61,
     "metadata": {},
     "output_type": "execute_result"
    }
   ],
   "source": [
    "l1[-3]"
   ]
  },
  {
   "cell_type": "code",
   "execution_count": 62,
   "id": "desperate-textbook",
   "metadata": {},
   "outputs": [
    {
     "data": {
      "text/plain": [
       "['kbc', 'adarsh', 2422, 56, 456, 234, 'rvr']"
      ]
     },
     "execution_count": 62,
     "metadata": {},
     "output_type": "execute_result"
    }
   ],
   "source": [
    "l1[:]"
   ]
  },
  {
   "cell_type": "code",
   "execution_count": 63,
   "id": "herbal-newport",
   "metadata": {},
   "outputs": [
    {
     "data": {
      "text/plain": [
       "'adarsh'"
      ]
     },
     "execution_count": 63,
     "metadata": {},
     "output_type": "execute_result"
    }
   ],
   "source": [
    "l1[-6]"
   ]
  },
  {
   "cell_type": "code",
   "execution_count": 65,
   "id": "hazardous-entity",
   "metadata": {},
   "outputs": [
    {
     "data": {
      "text/plain": [
       "[234, 'rvr']"
      ]
     },
     "execution_count": 65,
     "metadata": {},
     "output_type": "execute_result"
    }
   ],
   "source": [
    "l1[5:7]"
   ]
  },
  {
   "cell_type": "code",
   "execution_count": 69,
   "id": "invisible-donor",
   "metadata": {},
   "outputs": [
    {
     "data": {
      "text/plain": [
       "['apssdc', 'rvr', 242, 456, 78, [1, 2, 34, 5, 6]]"
      ]
     },
     "execution_count": 69,
     "metadata": {},
     "output_type": "execute_result"
    }
   ],
   "source": [
    "l2=['apssdc','rvr',242,456,78,[1,2,34,5,6]]\n",
    "l2"
   ]
  },
  {
   "cell_type": "code",
   "execution_count": 70,
   "id": "superb-skill",
   "metadata": {},
   "outputs": [
    {
     "data": {
      "text/plain": [
       "[1, 2, 34, 5, 6]"
      ]
     },
     "execution_count": 70,
     "metadata": {},
     "output_type": "execute_result"
    }
   ],
   "source": [
    "l2[-1]"
   ]
  },
  {
   "cell_type": "code",
   "execution_count": 71,
   "id": "jewish-drink",
   "metadata": {},
   "outputs": [
    {
     "data": {
      "text/plain": [
       "5"
      ]
     },
     "execution_count": 71,
     "metadata": {},
     "output_type": "execute_result"
    }
   ],
   "source": [
    "l2[-1][3]"
   ]
  },
  {
   "cell_type": "code",
   "execution_count": 73,
   "id": "coated-original",
   "metadata": {},
   "outputs": [
    {
     "data": {
      "text/plain": [
       "['rvr', 242, 456, 78, [1, 2, 34, 5, 6]]"
      ]
     },
     "execution_count": 73,
     "metadata": {},
     "output_type": "execute_result"
    }
   ],
   "source": [
    "l2[1:]"
   ]
  },
  {
   "cell_type": "code",
   "execution_count": 75,
   "id": "trying-brick",
   "metadata": {},
   "outputs": [
    {
     "data": {
      "text/plain": [
       "[[1, 2, 34, 5, 6], 78, 456, 242, 'rvr', 'apssdc']"
      ]
     },
     "execution_count": 75,
     "metadata": {},
     "output_type": "execute_result"
    }
   ],
   "source": [
    "l2[::-1]"
   ]
  },
  {
   "cell_type": "code",
   "execution_count": 87,
   "id": "metropolitan-limitation",
   "metadata": {},
   "outputs": [
    {
     "name": "stdout",
     "output_type": "stream",
     "text": [
      "[1, 2, 3, 4, 5, 6, 7, 10, 20, 30, 40, 50, 60]\n"
     ]
    }
   ],
   "source": [
    "a=[1,2,3,4,5,6,7]\n",
    "b=[10,20,30,40,50,60]\n",
    "c=a+b\n",
    "print(c)\n"
   ]
  },
  {
   "cell_type": "code",
   "execution_count": 88,
   "id": "historical-journalism",
   "metadata": {},
   "outputs": [
    {
     "data": {
      "text/plain": [
       "1"
      ]
     },
     "execution_count": 88,
     "metadata": {},
     "output_type": "execute_result"
    }
   ],
   "source": [
    "c.count(1)"
   ]
  },
  {
   "cell_type": "code",
   "execution_count": 90,
   "id": "royal-rebate",
   "metadata": {},
   "outputs": [
    {
     "data": {
      "text/plain": [
       "1"
      ]
     },
     "execution_count": 90,
     "metadata": {},
     "output_type": "execute_result"
    }
   ],
   "source": [
    "c.count(4)"
   ]
  },
  {
   "cell_type": "code",
   "execution_count": 92,
   "id": "rational-telescope",
   "metadata": {},
   "outputs": [
    {
     "data": {
      "text/plain": [
       "[1, 2, 3, 4, 5, 6, 7, 10, 20, 30, 40, 50, 60]"
      ]
     },
     "execution_count": 92,
     "metadata": {},
     "output_type": "execute_result"
    }
   ],
   "source": [
    "c.copy()"
   ]
  },
  {
   "cell_type": "code",
   "execution_count": 93,
   "id": "minus-conviction",
   "metadata": {},
   "outputs": [],
   "source": [
    "c.clear()"
   ]
  },
  {
   "cell_type": "code",
   "execution_count": 94,
   "id": "expanded-mexico",
   "metadata": {},
   "outputs": [
    {
     "data": {
      "text/plain": [
       "[]"
      ]
     },
     "execution_count": 94,
     "metadata": {},
     "output_type": "execute_result"
    }
   ],
   "source": [
    "c"
   ]
  },
  {
   "cell_type": "code",
   "execution_count": 95,
   "id": "previous-blake",
   "metadata": {},
   "outputs": [],
   "source": [
    "c1=c.copy()"
   ]
  },
  {
   "cell_type": "code",
   "execution_count": 96,
   "id": "quiet-surfing",
   "metadata": {},
   "outputs": [
    {
     "data": {
      "text/plain": [
       "[]"
      ]
     },
     "execution_count": 96,
     "metadata": {},
     "output_type": "execute_result"
    }
   ],
   "source": [
    "c1"
   ]
  },
  {
   "cell_type": "code",
   "execution_count": null,
   "id": "communist-strain",
   "metadata": {},
   "outputs": [],
   "source": []
  }
 ],
 "metadata": {
  "kernelspec": {
   "display_name": "Python 3",
   "language": "python",
   "name": "python3"
  },
  "language_info": {
   "codemirror_mode": {
    "name": "ipython",
    "version": 3
   },
   "file_extension": ".py",
   "mimetype": "text/x-python",
   "name": "python",
   "nbconvert_exporter": "python",
   "pygments_lexer": "ipython3",
   "version": "3.8.6"
  }
 },
 "nbformat": 4,
 "nbformat_minor": 5
}
