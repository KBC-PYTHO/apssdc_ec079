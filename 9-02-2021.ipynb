{
 "cells": [
  {
   "cell_type": "markdown",
   "id": "current-permission",
   "metadata": {},
   "source": [
    "### regular expression\n",
    "**it is a sequence of character that forms a pattern\n",
    "**validation\n",
    "**import regular expression"
   ]
  },
  {
   "cell_type": "code",
   "execution_count": 2,
   "id": "christian-freeze",
   "metadata": {},
   "outputs": [],
   "source": [
    "import re"
   ]
  },
  {
   "cell_type": "code",
   "execution_count": 3,
   "id": "linear-milton",
   "metadata": {},
   "outputs": [
    {
     "data": {
      "text/plain": [
       "['A',\n",
       " 'ASCII',\n",
       " 'DEBUG',\n",
       " 'DOTALL',\n",
       " 'I',\n",
       " 'IGNORECASE',\n",
       " 'L',\n",
       " 'LOCALE',\n",
       " 'M',\n",
       " 'MULTILINE',\n",
       " 'Match',\n",
       " 'Pattern',\n",
       " 'RegexFlag',\n",
       " 'S',\n",
       " 'Scanner',\n",
       " 'T',\n",
       " 'TEMPLATE',\n",
       " 'U',\n",
       " 'UNICODE',\n",
       " 'VERBOSE',\n",
       " 'X',\n",
       " '_MAXCACHE',\n",
       " '__all__',\n",
       " '__builtins__',\n",
       " '__cached__',\n",
       " '__doc__',\n",
       " '__file__',\n",
       " '__loader__',\n",
       " '__name__',\n",
       " '__package__',\n",
       " '__spec__',\n",
       " '__version__',\n",
       " '_cache',\n",
       " '_compile',\n",
       " '_compile_repl',\n",
       " '_expand',\n",
       " '_locale',\n",
       " '_pickle',\n",
       " '_special_chars_map',\n",
       " '_subx',\n",
       " 'compile',\n",
       " 'copyreg',\n",
       " 'enum',\n",
       " 'error',\n",
       " 'escape',\n",
       " 'findall',\n",
       " 'finditer',\n",
       " 'fullmatch',\n",
       " 'functools',\n",
       " 'match',\n",
       " 'purge',\n",
       " 'search',\n",
       " 'split',\n",
       " 'sre_compile',\n",
       " 'sre_parse',\n",
       " 'sub',\n",
       " 'subn',\n",
       " 'template']"
      ]
     },
     "execution_count": 3,
     "metadata": {},
     "output_type": "execute_result"
    }
   ],
   "source": [
    "dir(re)"
   ]
  },
  {
   "cell_type": "code",
   "execution_count": 4,
   "id": "complicated-solid",
   "metadata": {},
   "outputs": [
    {
     "data": {
      "text/plain": [
       "<re.Match object; span=(0, 1), match='A'>"
      ]
     },
     "execution_count": 4,
     "metadata": {},
     "output_type": "execute_result"
    }
   ],
   "source": [
    "# match   syntax is re.match(pattren,string)\n",
    "\n",
    "import re\n",
    "x=re.match(\"A\",\"APSSDC\")         #match only shows first element\n",
    "x"
   ]
  },
  {
   "cell_type": "code",
   "execution_count": 7,
   "id": "flexible-library",
   "metadata": {},
   "outputs": [],
   "source": [
    "b=re.search('c','apssdc')"
   ]
  },
  {
   "cell_type": "code",
   "execution_count": 8,
   "id": "surgical-server",
   "metadata": {},
   "outputs": [
    {
     "data": {
      "text/plain": [
       "<re.Match object; span=(5, 6), match='c'>"
      ]
     },
     "execution_count": 8,
     "metadata": {},
     "output_type": "execute_result"
    }
   ],
   "source": [
    "b"
   ]
  },
  {
   "cell_type": "code",
   "execution_count": 10,
   "id": "premier-canyon",
   "metadata": {},
   "outputs": [
    {
     "data": {
      "text/plain": [
       "<re.Match object; span=(0, 1), match='r'>"
      ]
     },
     "execution_count": 10,
     "metadata": {},
     "output_type": "execute_result"
    }
   ],
   "source": [
    "c=re.match('r','rvrjc')\n",
    "c"
   ]
  },
  {
   "cell_type": "code",
   "execution_count": 13,
   "id": "prescribed-profession",
   "metadata": {},
   "outputs": [
    {
     "data": {
      "text/plain": [
       "<re.Match object; span=(0, 1), match='r'>"
      ]
     },
     "execution_count": 13,
     "metadata": {},
     "output_type": "execute_result"
    }
   ],
   "source": [
    "d=re.match('c','rvrjc')\n",
    "c"
   ]
  },
  {
   "cell_type": "code",
   "execution_count": 15,
   "id": "institutional-unemployment",
   "metadata": {},
   "outputs": [
    {
     "data": {
      "text/plain": [
       "[]"
      ]
     },
     "execution_count": 15,
     "metadata": {},
     "output_type": "execute_result"
    }
   ],
   "source": [
    "m=re.findall('jjjc','rvrjc')\n",
    "m"
   ]
  },
  {
   "cell_type": "markdown",
   "id": "knowing-client",
   "metadata": {},
   "source": [
    "### regular expressions\n",
    " Python\tRegular\tExpression\tQuick\tGuide\n",
    "^           Matches the beginning of a line\n",
    "$           Matches the end of the line\n",
    ".           Matches any character\n",
    "\\s          Matches whitespace\n",
    "\\S          Matches any non-whitespace character\n",
    "\\d          matches    digits \n",
    "*           Repeats a character zero or more times\n",
    "*?          Repeats a character zero or more times\n",
    "           (non-greedy)\n",
    "+          Repeats a character one or more times\n",
    "+?         Repeats a character one or more times\n",
    "            (non-greedy)\n",
    "[aeiou]    Matches a single character in the listed set\n",
    "[^XYZ]     Matches a single character not in the listed set\n",
    "[a-z0-9]     The set of characters can include a range\n",
    "(            Indicates where string extraction is to start\n",
    ")            Indicates where string extraction is to end"
   ]
  },
  {
   "cell_type": "code",
   "execution_count": 20,
   "id": "existing-table",
   "metadata": {},
   "outputs": [
    {
     "data": {
      "text/plain": [
       "<re.Match object; span=(0, 12), match='rvrjc guntur'>"
      ]
     },
     "execution_count": 20,
     "metadata": {},
     "output_type": "execute_result"
    }
   ],
   "source": [
    "a='rvrjc guntur'\n",
    "res= re.search('^r.+r$',a)\n",
    "res"
   ]
  },
  {
   "cell_type": "code",
   "execution_count": 26,
   "id": "coordinate-gazette",
   "metadata": {},
   "outputs": [
    {
     "data": {
      "text/plain": [
       "['kbc']"
      ]
     },
     "execution_count": 26,
     "metadata": {},
     "output_type": "execute_result"
    }
   ],
   "source": [
    "##findall(pattern,string)\n",
    "a='kbc kbc'\n",
    "l= re.findall('^k.c',a)\n",
    "l"
   ]
  },
  {
   "cell_type": "code",
   "execution_count": 30,
   "id": "realistic-phone",
   "metadata": {},
   "outputs": [
    {
     "data": {
      "text/plain": [
       "<re.Match object; span=(0, 6), match='python'>"
      ]
     },
     "execution_count": 30,
     "metadata": {},
     "output_type": "execute_result"
    }
   ],
   "source": [
    "a='python workshop python language rvrjc workshop'\n",
    "pattern='^p....n'\n",
    "res= re.search(pattern,a)\n",
    "res"
   ]
  },
  {
   "cell_type": "code",
   "execution_count": 31,
   "id": "official-inside",
   "metadata": {},
   "outputs": [
    {
     "data": {
      "text/plain": [
       "[' ', ' ', ' ', ' ']"
      ]
     },
     "execution_count": 31,
     "metadata": {},
     "output_type": "execute_result"
    }
   ],
   "source": [
    "a='rvr jc ece python workshop'\n",
    "res=re.findall('\\s',a)\n",
    "res"
   ]
  },
  {
   "cell_type": "code",
   "execution_count": 34,
   "id": "distinct-breeding",
   "metadata": {},
   "outputs": [
    {
     "data": {
      "text/plain": [
       "<re.Match object; span=(0, 10), match='9999999999'>"
      ]
     },
     "execution_count": 34,
     "metadata": {},
     "output_type": "execute_result"
    }
   ],
   "source": [
    "a='999999999987799999999689789'\n",
    "res=re.search('9*',a)\n",
    "res"
   ]
  },
  {
   "cell_type": "code",
   "execution_count": 43,
   "id": "greatest-syntax",
   "metadata": {},
   "outputs": [
    {
     "name": "stdout",
     "output_type": "stream",
     "text": [
      "hari71\n"
     ]
    }
   ],
   "source": [
    "u=['kbc','adarsh74','hari71','palak pavan','s bhargav']\n",
    "pattern='^h.*1$'\n",
    "for i in u:\n",
    "    if re.search(pattern,i):\n",
    "        print(i)\n",
    "    "
   ]
  },
  {
   "cell_type": "code",
   "execution_count": 45,
   "id": "compound-motorcycle",
   "metadata": {},
   "outputs": [
    {
     "name": "stdout",
     "output_type": "stream",
     "text": [
      "*\n",
      "**\n",
      "***\n"
     ]
    }
   ],
   "source": [
    "print(\"*\")\n",
    "print(\"**\")\n",
    "print(\"***\")"
   ]
  },
  {
   "cell_type": "code",
   "execution_count": 48,
   "id": "demanding-forwarding",
   "metadata": {},
   "outputs": [
    {
     "name": "stdout",
     "output_type": "stream",
     "text": [
      "*\n"
     ]
    }
   ],
   "source": [
    "for i in range(0,1):\n",
    "    print('*')\n",
    "    "
   ]
  },
  {
   "cell_type": "code",
   "execution_count": 50,
   "id": "another-rating",
   "metadata": {},
   "outputs": [
    {
     "name": "stdout",
     "output_type": "stream",
     "text": [
      "9877659867\n",
      "7664556789\n"
     ]
    }
   ],
   "source": [
    "l1=['9877659867','7664556789','4654654346','5785865645','555635534523']\n",
    "for i in l1:\n",
    "    if re.findall('^[6-9]\\d{9}',i):\n",
    "        print(i)"
   ]
  },
  {
   "cell_type": "code",
   "execution_count": null,
   "id": "obvious-acoustic",
   "metadata": {},
   "outputs": [],
   "source": [
    "##email pattren\n",
    "l1={'apssdc.123@gmail.com','apssdcrvr@gmail.com','prassanaraj.m@gmail.com'}"
   ]
  }
 ],
 "metadata": {
  "kernelspec": {
   "display_name": "Python 3",
   "language": "python",
   "name": "python3"
  },
  "language_info": {
   "codemirror_mode": {
    "name": "ipython",
    "version": 3
   },
   "file_extension": ".py",
   "mimetype": "text/x-python",
   "name": "python",
   "nbconvert_exporter": "python",
   "pygments_lexer": "ipython3",
   "version": "3.8.6"
  }
 },
 "nbformat": 4,
 "nbformat_minor": 5
}
